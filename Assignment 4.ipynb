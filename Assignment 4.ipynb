{
 "cells": [
  {
   "cell_type": "markdown",
   "id": "62b6b9af-71cd-499b-a47d-68179f3fdbcd",
   "metadata": {},
   "source": [
    "## Question.1\n",
    "Write a Python program that checks if a number entered by the user is even or odd. Print \"Even\" if the number is even and \"Odd\" if it is odd."
   ]
  },
  {
   "cell_type": "code",
   "execution_count": 2,
   "id": "622b716e-db11-471d-82f8-89eab94fc2b2",
   "metadata": {},
   "outputs": [
    {
     "name": "stdin",
     "output_type": "stream",
     "text": [
      " 13\n"
     ]
    },
    {
     "name": "stdout",
     "output_type": "stream",
     "text": [
      "Num is Odd\n"
     ]
    }
   ],
   "source": [
    "num = int(input())\n",
    "\n",
    "if num%2 == 0:\n",
    "    print(\"Num is Even\")\n",
    "else:\n",
    "    print(\"Num is Odd\")"
   ]
  },
  {
   "cell_type": "markdown",
   "id": "d6d0779e-8e2d-4299-a956-5b9db39bad31",
   "metadata": {},
   "source": [
    "## Question.2\n",
    "Create a program that prompts the user for their age and prints whether they are a child (0-12), teenager (13-19), or adult (20 and above). "
   ]
  },
  {
   "cell_type": "code",
   "execution_count": 1,
   "id": "c8fc3908-fb08-4432-a775-1e5afd682453",
   "metadata": {},
   "outputs": [
    {
     "name": "stdin",
     "output_type": "stream",
     "text": [
      " 19\n"
     ]
    },
    {
     "name": "stdout",
     "output_type": "stream",
     "text": [
      "Teenager\n"
     ]
    }
   ],
   "source": [
    "age = int(input())\n",
    "\n",
    "if 0 <= age <= 12:\n",
    "    print(\"Child\")\n",
    "elif 13 <= age <= 19:\n",
    "    print(\"Teenager\")\n",
    "else:\n",
    "    print(\"adult\")"
   ]
  },
  {
   "cell_type": "markdown",
   "id": "7cee0c72-7ba2-4ecf-acf8-99f355fc93c3",
   "metadata": {},
   "source": [
    "## Question.3 \n",
    "Write a program that takes two numbers as input from the user and prints which number is larger. If both numbers are equal, print \"Both numbers are equal.\""
   ]
  },
  {
   "cell_type": "code",
   "execution_count": 3,
   "id": "94ab8ddf-e72a-4585-84bd-70ec215f1e96",
   "metadata": {},
   "outputs": [
    {
     "name": "stdin",
     "output_type": "stream",
     "text": [
      "Enter first number: 12\n",
      "Enter second number: 13\n"
     ]
    },
    {
     "name": "stdout",
     "output_type": "stream",
     "text": [
      "second number is larger\n"
     ]
    }
   ],
   "source": [
    "a = int(input(\"Enter first number:\" ))\n",
    "b = int(input(\"Enter second number:\"))\n",
    "\n",
    "if a > b:\n",
    "    print(\"first number is Larger\")\n",
    "elif a < b:\n",
    "    print(\"second number is larger\")\n",
    "else:\n",
    "    print(\"both number are equal\")"
   ]
  },
  {
   "cell_type": "markdown",
   "id": "1c24f176-7dd7-44be-856a-279cb71a1c72",
   "metadata": {},
   "source": [
    "## Question 4\n",
    "Create a program that checks if a user-entered password matches the string \"securePassword\". Print \"Access Granted\" if it matches, otherwise print \"Access Denied.\""
   ]
  },
  {
   "cell_type": "code",
   "execution_count": 5,
   "id": "eef9f089-95aa-4122-a6c5-ef3a7614fa69",
   "metadata": {},
   "outputs": [
    {
     "name": "stdin",
     "output_type": "stream",
     "text": [
      " das\n"
     ]
    },
    {
     "name": "stdout",
     "output_type": "stream",
     "text": [
      "Access Denied\n"
     ]
    }
   ],
   "source": [
    "n_password = \"securePassword\"\n",
    "m_password = input()\n",
    "\n",
    "if n_password == m_password:\n",
    "    print(\"Access Granted\")\n",
    "else:\n",
    "    print(\"Access Denied\")\n"
   ]
  },
  {
   "cell_type": "markdown",
   "id": "b41a671c-e6f6-493f-85b1-506fcb28e95a",
   "metadata": {},
   "source": [
    "## Question 5\n",
    "Write a program that takes a score from the user (0-100) and prints the corresponding grade: A for 90-100 B for 80-89 C for 70-79 D for 60-69 F for below 60"
   ]
  },
  {
   "cell_type": "code",
   "execution_count": 9,
   "id": "1c255eda-16a0-44f9-8ec2-db8d4f83e807",
   "metadata": {},
   "outputs": [
    {
     "name": "stdin",
     "output_type": "stream",
     "text": [
      " 55\n"
     ]
    },
    {
     "name": "stdout",
     "output_type": "stream",
     "text": [
      "F\n"
     ]
    }
   ],
   "source": [
    "score = int(input())\n",
    "\n",
    "if 90<=score<=100:\n",
    " print(\"A\")\n",
    "elif 80<=score<=89:\n",
    "    print(\"B\")\n",
    "elif 70<=score<=79:\n",
    "    print(\"C\")\n",
    "elif 60<=score<=69:\n",
    "    print(\"D\")\n",
    "else:\n",
    "    print(\"F\")"
   ]
  },
  {
   "cell_type": "markdown",
   "id": "0afdea3b-cffa-4096-b036-2d0915df81f6",
   "metadata": {},
   "source": [
    "## Question 6\n",
    "Create a program that asks the user for a number and checks if it is positive, negative, or zero. Print the corresponding message."
   ]
  },
  {
   "cell_type": "code",
   "execution_count": 10,
   "id": "71f21bdb-2e59-42b9-943a-7b9c7764dd6a",
   "metadata": {},
   "outputs": [
    {
     "name": "stdin",
     "output_type": "stream",
     "text": [
      " -2\n"
     ]
    },
    {
     "name": "stdout",
     "output_type": "stream",
     "text": [
      "the number is negative\n"
     ]
    }
   ],
   "source": [
    "n = int(input())\n",
    "\n",
    "if n == 0:\n",
    "    print(\"the number is zero\")\n",
    "elif n > 0:\n",
    "    print(\"the number is positive\")\n",
    "else:\n",
    "    print(\"the number is negative\")"
   ]
  },
  {
   "cell_type": "markdown",
   "id": "a6bb4242-f842-49e3-807a-8ef6f438c191",
   "metadata": {},
   "source": [
    "## Question 7\n",
    "Write a program that takes three numbers from the user and determines the largest of the three. Print the largest number."
   ]
  },
  {
   "cell_type": "code",
   "execution_count": 11,
   "id": "6530ef1c-a39e-4fab-a43c-ff38ae0351f1",
   "metadata": {},
   "outputs": [
    {
     "name": "stdin",
     "output_type": "stream",
     "text": [
      " 52\n",
      " 53\n",
      " 54\n"
     ]
    },
    {
     "name": "stdout",
     "output_type": "stream",
     "text": [
      "c is larger No.\n"
     ]
    }
   ],
   "source": [
    "a = int(input())\n",
    "b = int(input())\n",
    "c = int(input())\n",
    "\n",
    "if a > b and a > c:\n",
    "    print(\"a is larger No.\")\n",
    "elif b > a and b > c:\n",
    "    print(\"b is larger No.\")\n",
    "else:\n",
    "    print(\"c is larger No.\")"
   ]
  },
  {
   "cell_type": "markdown",
   "id": "07ee0821-2c24-4aef-82c9-d34ad7fa84c5",
   "metadata": {},
   "source": [
    "## Question 8\n",
    "Create a program that checks if a user-entered character is a vowel (a, e, i, o, u) or a consonant. Print the corresponding message."
   ]
  },
  {
   "cell_type": "code",
   "execution_count": 12,
   "id": "7311f81d-7842-4ba9-87cb-f3284ebb841b",
   "metadata": {},
   "outputs": [
    {
     "name": "stdin",
     "output_type": "stream",
     "text": [
      " x\n"
     ]
    },
    {
     "name": "stdout",
     "output_type": "stream",
     "text": [
      "Consonant\n"
     ]
    }
   ],
   "source": [
    "x = input()\n",
    "  \n",
    "if (x == 'a' or x == 'e' or x == 'i' or x == 'o' or x == 'u'): \n",
    "    print(\"Vowel\") \n",
    "else: \n",
    "    print(\"Consonant\")"
   ]
  },
  {
   "cell_type": "markdown",
   "id": "45c7ad24-12da-4d29-a5c5-defbaf697717",
   "metadata": {},
   "source": [
    "## Question 9\n",
    "Write a program that checks if a given year is a leap year. A year is a leap year if it is divisible by 4, except for years that are divisible by 100 but not divisible by 400"
   ]
  },
  {
   "cell_type": "code",
   "execution_count": 14,
   "id": "0e74573f-40a8-4987-bddd-8bb872e4a2cd",
   "metadata": {},
   "outputs": [
    {
     "name": "stdin",
     "output_type": "stream",
     "text": [
      " 1660\n"
     ]
    },
    {
     "name": "stdout",
     "output_type": "stream",
     "text": [
      "leap year\n"
     ]
    }
   ],
   "source": [
    "LY = int(input())\n",
    "\n",
    "if LY%400 == 0:\n",
    "    print(\"leap year\")\n",
    "elif LY % 4 == 0 and LY % 100 != 0:\n",
    "    print(\"leap year\")\n",
    "    \n",
    "else:\n",
    "    print(\"Not a leap year\")"
   ]
  },
  {
   "cell_type": "markdown",
   "id": "69b51af4-63df-4634-884b-89d6291f918c",
   "metadata": {},
   "source": [
    "## Question 10\n",
    "Create a program that prompts the user for a temperature in Celsius and converts it to Fahrenheit. If the converted temperature is greater than 100°F, print \"It's boiling!\" Otherwise, print \"It's not boiling yet.\"\n"
   ]
  },
  {
   "cell_type": "code",
   "execution_count": 15,
   "id": "e44371bf-d134-4cf9-8d35-686c30e3cec4",
   "metadata": {},
   "outputs": [
    {
     "name": "stdin",
     "output_type": "stream",
     "text": [
      " 102\n"
     ]
    },
    {
     "name": "stdout",
     "output_type": "stream",
     "text": [
      "215.6\n",
      "It's Boiling\n"
     ]
    }
   ],
   "source": [
    "C = int(input())\n",
    "F = C * 9/5 + 32\n",
    "print(F)\n",
    "\n",
    "if F >= 100:\n",
    "    print(\"It's Boiling\")\n",
    "else:\n",
    "    print(\"its not boiling\")"
   ]
  }
 ],
 "metadata": {
  "kernelspec": {
   "display_name": "Python 3 (ipykernel)",
   "language": "python",
   "name": "python3"
  },
  "language_info": {
   "codemirror_mode": {
    "name": "ipython",
    "version": 3
   },
   "file_extension": ".py",
   "mimetype": "text/x-python",
   "name": "python",
   "nbconvert_exporter": "python",
   "pygments_lexer": "ipython3",
   "version": "3.13.1"
  }
 },
 "nbformat": 4,
 "nbformat_minor": 5
}
