{
 "cells": [
  {
   "cell_type": "markdown",
   "id": "9eee684e-e59c-4b65-9cb0-a6fba4686a31",
   "metadata": {},
   "source": [
    "# Question 1\n",
    "Write a Python program to print your name and favourite colour on two\n",
    "separate lines."
   ]
  },
  {
   "cell_type": "code",
   "execution_count": 10,
   "id": "e9a72ac5-a2e9-4df1-8159-31f0a290c07c",
   "metadata": {},
   "outputs": [
    {
     "name": "stdout",
     "output_type": "stream",
     "text": [
      "Swaraj Kondhare \n",
      "Black\n"
     ]
    }
   ],
   "source": [
    "print(\"Swaraj Kondhare \\nBlack\")"
   ]
  },
  {
   "cell_type": "markdown",
   "id": "8e43f6bb-bdba-4ea9-ae41-0decc15aec6e",
   "metadata": {},
   "source": [
    "# Question 2\n",
    "Write a Python program that prints the result of adding 7 and 8."
   ]
  },
  {
   "cell_type": "code",
   "execution_count": 15,
   "id": "b6257852-9b9e-4f4f-bfb2-0418ebad74ce",
   "metadata": {},
   "outputs": [
    {
     "name": "stdout",
     "output_type": "stream",
     "text": [
      "15\n"
     ]
    }
   ],
   "source": [
    "print(7+8)"
   ]
  },
  {
   "cell_type": "markdown",
   "id": "87367fa0-7e67-4ed1-a5cf-b31da3bbec15",
   "metadata": {},
   "source": [
    "# Question 3\n",
    "Use the print function to display the following text exactly as it is:\n",
    "Python is fun!\n",
    "Let's learn together."
   ]
  },
  {
   "cell_type": "code",
   "execution_count": 16,
   "id": "ab39279e-bdab-4171-b76e-3027b7640a5a",
   "metadata": {},
   "outputs": [
    {
     "name": "stdout",
     "output_type": "stream",
     "text": [
      "Python is fun! \n",
      "Let's learn together.\n"
     ]
    }
   ],
   "source": [
    "print(\"Python is fun! \\nLet's learn together.\")"
   ]
  },
  {
   "cell_type": "markdown",
   "id": "9af988e9-4194-4791-bffa-d5c64000dbb2",
   "metadata": {},
   "source": [
    "# Question 4\n",
    "Write a Python program to calculate and print the result of multiplying 6 by\n",
    "9."
   ]
  },
  {
   "cell_type": "code",
   "execution_count": 17,
   "id": "f48a1243-d2e1-4f78-9cea-95a2fbcaff0b",
   "metadata": {},
   "outputs": [
    {
     "name": "stdout",
     "output_type": "stream",
     "text": [
      "54\n"
     ]
    }
   ],
   "source": [
    "print(6*9)"
   ]
  },
  {
   "cell_type": "markdown",
   "id": "93d77889-14ac-4289-968b-44e520af551c",
   "metadata": {},
   "source": [
    "# Question 5\n",
    "Write a Python program that prints the result of adding 5 5 an\n",
    "multiplying 2 3 in a single line of code"
   ]
  },
  {
   "cell_type": "code",
   "execution_count": 18,
   "id": "65c9a671-aee8-495c-ab41-33d0d74b5e88",
   "metadata": {},
   "outputs": [
    {
     "name": "stdout",
     "output_type": "stream",
     "text": [
      "10 6\n"
     ]
    }
   ],
   "source": [
    "print((5+5),(2*3))"
   ]
  },
  {
   "cell_type": "markdown",
   "id": "899545dd-dde2-4dc9-8a34-ba50094f8237",
   "metadata": {},
   "source": [
    "# Question 6\n",
    "Take the name A as input from the user and print \"Hello A\", where A is the name in input."
   ]
  },
  {
   "cell_type": "code",
   "execution_count": 1,
   "id": "355bf76b-03bf-47fb-8867-10a32b3b5c3b",
   "metadata": {},
   "outputs": [
    {
     "name": "stdin",
     "output_type": "stream",
     "text": [
      " swaraj\n"
     ]
    },
    {
     "name": "stdout",
     "output_type": "stream",
     "text": [
      "Hello swaraj\n"
     ]
    }
   ],
   "source": [
    "A = input()\n",
    "print(\"Hello\", A)"
   ]
  },
  {
   "cell_type": "markdown",
   "id": "a660441e-a9c3-437c-9a71-821936ec2e25",
   "metadata": {},
   "source": [
    "# Question 7\n",
    "You have x rupees in your savings. You google pay y rupees, print your\n",
    "bank balance"
   ]
  },
  {
   "cell_type": "code",
   "execution_count": 2,
   "id": "dccc78eb-b780-4b8b-b7fe-92476db9df2a",
   "metadata": {},
   "outputs": [
    {
     "name": "stdout",
     "output_type": "stream",
     "text": [
      "10\n"
     ]
    }
   ],
   "source": [
    "X = 20\n",
    "Y = 10\n",
    "print(X-Y)"
   ]
  },
  {
   "cell_type": "markdown",
   "id": "ce7dac14-5371-463f-aaf1-536b47466ca8",
   "metadata": {},
   "source": [
    "# question 8\n",
    "Print the first five letters of the English alphabet i.e. A, B, C, D and E. one below each other"
   ]
  },
  {
   "cell_type": "code",
   "execution_count": null,
   "id": "94726cb2-dfdf-4a84-bf62-7446f02b6e1c",
   "metadata": {},
   "outputs": [],
   "source": [
    "print(\"A\")\n",
    "print(\"B\")\n",
    "print(\"C\")\n",
    "print(\"D\")\n",
    "print(\"E\")"
   ]
  },
  {
   "cell_type": "code",
   "execution_count": 5,
   "id": "9b2f1772-547d-4e77-9a7c-b2104c6418fe",
   "metadata": {},
   "outputs": [
    {
     "name": "stdout",
     "output_type": "stream",
     "text": [
      " A \n",
      " B \n",
      " C \n",
      " D \n",
      " E\n"
     ]
    }
   ],
   "source": [
    "print(\" A \\n B \\n C \\n D \\n E\")"
   ]
  },
  {
   "cell_type": "markdown",
   "id": "b415057d-a313-4cae-99ae-58d02f599932",
   "metadata": {},
   "source": [
    "# Question 9\n",
    "Take two names A and B as input from the user, and print \"A says Hi to B\" (Without quotations), where A and B are the names in input."
   ]
  },
  {
   "cell_type": "code",
   "execution_count": 6,
   "id": "a14fc574-9ad3-4ab8-96c2-ac885380bdb6",
   "metadata": {},
   "outputs": [
    {
     "name": "stdin",
     "output_type": "stream",
     "text": [
      " Swaraj \n",
      " Abhishek\n"
     ]
    },
    {
     "name": "stdout",
     "output_type": "stream",
     "text": [
      "Swaraj  says Hi to Abhishek\n"
     ]
    }
   ],
   "source": [
    "A = input()\n",
    "B = input()\n",
    "print(A, \"says Hi to\", B)"
   ]
  }
 ],
 "metadata": {
  "kernelspec": {
   "display_name": "Python 3 (ipykernel)",
   "language": "python",
   "name": "python3"
  },
  "language_info": {
   "codemirror_mode": {
    "name": "ipython",
    "version": 3
   },
   "file_extension": ".py",
   "mimetype": "text/x-python",
   "name": "python",
   "nbconvert_exporter": "python",
   "pygments_lexer": "ipython3",
   "version": "3.13.1"
  }
 },
 "nbformat": 4,
 "nbformat_minor": 5
}
