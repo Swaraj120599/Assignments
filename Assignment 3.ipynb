{
 "cells": [
  {
   "cell_type": "markdown",
   "id": "5a0ee697-28ff-4cf8-a340-cb33977fcfd9",
   "metadata": {},
   "source": [
    "Question.1\n",
    "Create a variable x with the value 15 . Perform floored division by 4 and print the result. What is the difference between floored division and normal division?"
   ]
  },
  {
   "cell_type": "code",
   "execution_count": 1,
   "id": "79e4621e-238f-4125-8411-5ec21566f757",
   "metadata": {},
   "outputs": [
    {
     "name": "stdout",
     "output_type": "stream",
     "text": [
      "3.75\n",
      "<class 'float'>\n",
      "3\n",
      "<class 'int'>\n"
     ]
    }
   ],
   "source": [
    "x=15\n",
    "print(x/4)\n",
    "print(type(x/4))\n",
    "\n",
    "print(x%4)\n",
    "print(type(x%4))\n",
    "\n",
    "'''\n",
    "the difference between floored division and normal division is in\n",
    "normal division the value is not rounded off but in floored division the value is rounded off and shown in decimal \n",
    "'''"
   ]
  },
  {
   "cell_type": "markdown",
   "id": "28cc027f-f922-4c90-9a32-606a99ff1b8d",
   "metadata": {},
   "source": [
    "Question.2\n",
    "Write a program to calculate 8 ** 2 and 16 ** 0.5 . Print both results and describe what each represents."
   ]
  },
  {
   "cell_type": "code",
   "execution_count": 2,
   "id": "47fa4ca2-fdcb-4886-80e9-bd0e7a4d02a3",
   "metadata": {},
   "outputs": [
    {
     "name": "stdout",
     "output_type": "stream",
     "text": [
      "64\n",
      "4.0\n"
     ]
    }
   ],
   "source": [
    "print(8**2)\n",
    "print(16**0.5)\n",
    "\n",
    "'''\n",
    "From following output ** use to exponetional to function and given the answer\n",
    "'''\n"
   ]
  },
  {
   "cell_type": "markdown",
   "id": "ce4ad25b-041b-4fb1-8f4b-211eee9d12b1",
   "metadata": {},
   "source": [
    "Question.3\n",
    "Use arithmetic operators to solve the following expression: 20 - 5 * 3 + 8 / 4 . Use parentheses to make sure the addition happens before multiplication. Print the output."
   ]
  },
  {
   "cell_type": "code",
   "execution_count": 3,
   "id": "a4fb915d-7872-4e02-a35a-65d47505967b",
   "metadata": {},
   "outputs": [
    {
     "data": {
      "text/plain": [
       "6.25"
      ]
     },
     "execution_count": 3,
     "metadata": {},
     "output_type": "execute_result"
    }
   ],
   "source": [
    "20 - 5 * (3 + 8) / 4"
   ]
  },
  {
   "cell_type": "code",
   "execution_count": null,
   "id": "f5d7d16e-7416-4915-b0a4-8f6f270ba0e2",
   "metadata": {},
   "outputs": [],
   "source": [
    "Question.4\n",
    "Assign the value 7 to a variable num . Convert it to a float and print the result. What is the difference between 7 and 7.0 ?"
   ]
  },
  {
   "cell_type": "code",
   "execution_count": 4,
   "id": "4e18d399-6afa-43a3-9823-35eaf77a27d2",
   "metadata": {},
   "outputs": [
    {
     "name": "stdout",
     "output_type": "stream",
     "text": [
      "7\n",
      "<class 'int'>\n",
      "7.0\n",
      "<class 'float'>\n"
     ]
    }
   ],
   "source": [
    "num = 7\n",
    "print(num)\n",
    "print(type(num))\n",
    "\n",
    "num = 7.0\n",
    "print(num)\n",
    "print(type(num))"
   ]
  },
  {
   "cell_type": "markdown",
   "id": "5df64135-61f7-464b-a633-49a947db4cf8",
   "metadata": {},
   "source": [
    "Question.5\n",
    "Use a comparison operator to check if 100 is greater than 50 . Print the result and indicate what type of value this is"
   ]
  },
  {
   "cell_type": "code",
   "execution_count": 5,
   "id": "210dea23-15d7-457f-8ee4-3927e8566769",
   "metadata": {},
   "outputs": [
    {
     "name": "stdout",
     "output_type": "stream",
     "text": [
      "True\n"
     ]
    },
    {
     "data": {
      "text/plain": [
       "bool"
      ]
     },
     "execution_count": 5,
     "metadata": {},
     "output_type": "execute_result"
    }
   ],
   "source": [
    "A = (100 > 50)\n",
    "print(A)\n",
    "type(A)"
   ]
  },
  {
   "cell_type": "markdown",
   "id": "22204c82-bbe6-48b0-9c65-855559c1a664",
   "metadata": {},
   "source": [
    "Question.6\n",
    "Assign True to a variable is_sunny and False to is_weekend . Use logical operators to check if it is sunny and the weekend ( is_sunny and is_weekend ). Print the result."
   ]
  },
  {
   "cell_type": "code",
   "execution_count": 6,
   "id": "7ead0394-7d39-4298-bfb7-dcaf76369d32",
   "metadata": {},
   "outputs": [
    {
     "name": "stdout",
     "output_type": "stream",
     "text": [
      "False\n"
     ]
    }
   ],
   "source": [
    "is_sunny = True\n",
    "is_weekend = False\n",
    "print(is_sunny and is_weekend)"
   ]
  },
  {
   "cell_type": "markdown",
   "id": "491e3368-9612-4ded-a315-a1eacc01b1b9",
   "metadata": {},
   "source": [
    "Question.7\n",
    "Create a variable password and set it to \"my_password123\" . Ask the user to input\n",
    "a password and print True if the input matches the value of password ,\n",
    "otherwise print False ."
   ]
  },
  {
   "cell_type": "code",
   "execution_count": 7,
   "id": "8d030bbd-fc82-4481-9816-524a09e91f32",
   "metadata": {},
   "outputs": [
    {
     "name": "stdin",
     "output_type": "stream",
     "text": [
      "Enter You Password: Swaraj\n"
     ]
    },
    {
     "name": "stdout",
     "output_type": "stream",
     "text": [
      "False\n"
     ]
    }
   ],
   "source": [
    "user_password = \"my_password123\"\n",
    "enter_password = input(\"Enter You Password:\")\n",
    "\n",
    "if user_password == enter_password:\n",
    "    print(True)\n",
    "else:\n",
    "    print(False)"
   ]
  },
  {
   "cell_type": "markdown",
   "id": "c4d97936-78db-479c-bcd9-9ed39d320a4f",
   "metadata": {},
   "source": [
    "Question.8\n",
    "Assign the value 50 to a variable marks . Increment the value of marks by 5 using the += operator, then print the new value."
   ]
  },
  {
   "cell_type": "code",
   "execution_count": 9,
   "id": "2b387a68-242c-478d-8fd6-bc31d3e4480c",
   "metadata": {},
   "outputs": [
    {
     "name": "stdout",
     "output_type": "stream",
     "text": [
      "50\n",
      "55\n"
     ]
    }
   ],
   "source": [
    "marks = 50\n",
    "print(marks)\n",
    "marks += 5\n",
    "print(marks)"
   ]
  },
  {
   "cell_type": "markdown",
   "id": "1778f27a-0e1e-41b3-a7e3-0694418bcdd8",
   "metadata": {},
   "source": [
    "Question.9\n",
    "Write a program to check if the value of a = 0 and b = 10 satisfies a or b . Print the output and explain why it gives that result.\n",
    "\n"
   ]
  },
  {
   "cell_type": "code",
   "execution_count": 1,
   "id": "115349bd-9c17-4270-9850-ec50e31068ad",
   "metadata": {},
   "outputs": [
    {
     "data": {
      "text/plain": [
       "10"
      ]
     },
     "execution_count": 1,
     "metadata": {},
     "output_type": "execute_result"
    }
   ],
   "source": [
    "a = 0 \n",
    "b = 10\n",
    "a or b "
   ]
  },
  {
   "cell_type": "markdown",
   "id": "54809ff4-beb5-40e4-9640-1659f2ccb236",
   "metadata": {},
   "source": [
    "Question.10\n",
    "Use not to negate the value of False and print the result. Explain what the not operator does in Python."
   ]
  },
  {
   "cell_type": "code",
   "execution_count": 13,
   "id": "def75d41-37b4-4195-b899-93d5fd47383d",
   "metadata": {},
   "outputs": [
    {
     "data": {
      "text/plain": [
       "False"
      ]
     },
     "execution_count": 13,
     "metadata": {},
     "output_type": "execute_result"
    }
   ],
   "source": [
    "False"
   ]
  },
  {
   "cell_type": "code",
   "execution_count": 12,
   "id": "2beb2f67-4a7b-40fc-b120-1c089c098b6c",
   "metadata": {},
   "outputs": [
    {
     "data": {
      "text/plain": [
       "True"
      ]
     },
     "execution_count": 12,
     "metadata": {},
     "output_type": "execute_result"
    }
   ],
   "source": [
    "not False"
   ]
  }
 ],
 "metadata": {
  "kernelspec": {
   "display_name": "Python 3 (ipykernel)",
   "language": "python",
   "name": "python3"
  },
  "language_info": {
   "codemirror_mode": {
    "name": "ipython",
    "version": 3
   },
   "file_extension": ".py",
   "mimetype": "text/x-python",
   "name": "python",
   "nbconvert_exporter": "python",
   "pygments_lexer": "ipython3",
   "version": "3.13.1"
  }
 },
 "nbformat": 4,
 "nbformat_minor": 5
}
