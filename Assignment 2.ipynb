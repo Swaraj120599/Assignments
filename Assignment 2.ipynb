{
 "cells": [
  {
   "cell_type": "markdown",
   "id": "fa953282-134f-465c-bd32-9cf876e3ff08",
   "metadata": {},
   "source": [
    "# Question 1\n",
    "Create a variable age and assign it the value 25 . Then print the value of\n",
    "age along with its data type using the type() function."
   ]
  },
  {
   "cell_type": "code",
   "execution_count": 4,
   "id": "89137b51-0a62-4afd-829c-481fe2bc760e",
   "metadata": {},
   "outputs": [
    {
     "name": "stdout",
     "output_type": "stream",
     "text": [
      "25\n"
     ]
    },
    {
     "data": {
      "text/plain": [
       "int"
      ]
     },
     "execution_count": 4,
     "metadata": {},
     "output_type": "execute_result"
    }
   ],
   "source": [
    "age=25\n",
    "print(age)\n",
    "type(age)\n"
   ]
  },
  {
   "cell_type": "markdown",
   "id": "24e088b4-fe8b-4907-9a15-9fe84d317ff7",
   "metadata": {},
   "source": [
    "# Question 2\n",
    "Assign the number 12.5 to a variable price . Print both the variable and its\n",
    "data type. Then assign the value 12 to the same variable and print its data\n",
    "type again. What do you observe?"
   ]
  },
  {
   "cell_type": "code",
   "execution_count": 14,
   "id": "f1dd467f-367f-4f0f-b122-4c0613b146a3",
   "metadata": {},
   "outputs": [
    {
     "name": "stdout",
     "output_type": "stream",
     "text": [
      "12.5\n",
      "<class 'float'>\n",
      "12\n",
      "<class 'int'>\n"
     ]
    }
   ],
   "source": [
    "#1st condition\n",
    "price1=12.5\n",
    "print(price1)\n",
    "print(type(price1))\n",
    "\n",
    "#2nd condition \n",
    "price=12 \n",
    "print(price)\n",
    "print(type(price))\n",
    "\n",
    "#The difference between this function is one of function as float function and 2nd one act as integer function"
   ]
  },
  {
   "cell_type": "markdown",
   "id": "607e88b9-4d6d-4892-b73e-3a773bd2fe7b",
   "metadata": {},
   "source": [
    "# Question 3\n",
    "Create a variable is_raining and set it to True . Print the value of the variable\n",
    "along with its type. Then set is_raining to False and print the new value and\n",
    "type."
   ]
  },
  {
   "cell_type": "code",
   "execution_count": 19,
   "id": "36d58d30-272e-439e-9ee0-33fe99f99431",
   "metadata": {},
   "outputs": [
    {
     "name": "stdout",
     "output_type": "stream",
     "text": [
      "True\n",
      "<class 'bool'>\n",
      "False\n",
      "<class 'bool'>\n"
     ]
    }
   ],
   "source": [
    "#condition 1\n",
    "is_raining=True\n",
    "print(is_raining)\n",
    "print(type(is_raining))\n",
    "\n",
    "#condition 2\n",
    "is_raining=False\n",
    "print(is_raining)\n",
    "print(type(is_raining))"
   ]
  },
  {
   "cell_type": "markdown",
   "id": "954e0a88-8dc4-4230-97c4-2da17c7df340",
   "metadata": {},
   "source": [
    "# Question 4\n",
    "Create a variable my_name and store your full name in it as a string. Then\n",
    "print the value of my_name using single quotes ' ."
   ]
  },
  {
   "cell_type": "code",
   "execution_count": 20,
   "id": "da95881e-2ff6-45fa-b98f-f28d7e263625",
   "metadata": {},
   "outputs": [
    {
     "name": "stdout",
     "output_type": "stream",
     "text": [
      "' Swaraj Ashok Kondhare '\n"
     ]
    }
   ],
   "source": [
    "my_name=(\"Swaraj Ashok Kondhare\")\n",
    "print(\"'\", my_name,\"'\")"
   ]
  },
  {
   "cell_type": "markdown",
   "id": "2fedef35-88ca-4b14-89d8-d9a97ad2efb1",
   "metadata": {},
   "source": [
    "# Question 5\n",
    "Write a Python program that asks the user for their name and age using the\n",
    "input() function. Store the inputs in variables and print a sentence like\n",
    "\"Hello, [Name]! You are [Age] years old.\" Ensure you cast the age to a\n",
    "integer."
   ]
  },
  {
   "cell_type": "code",
   "execution_count": 7,
   "id": "66ef2872-e32b-45cf-ba7e-7b6c404a9c32",
   "metadata": {},
   "outputs": [
    {
     "name": "stdin",
     "output_type": "stream",
     "text": [
      "Entre Your Name swaraj\n",
      "Entre your Age 23\n"
     ]
    },
    {
     "name": "stdout",
     "output_type": "stream",
     "text": [
      "Hello, swaraj ! you are 23 years old\n"
     ]
    }
   ],
   "source": [
    "Name=input(\"Entre Your Name\")\n",
    "Age= int(input(\"Entre your Age\"))\n",
    "\n",
    "print(\"Hello,\",(Name),\"! you are\",Age,\"years old\")"
   ]
  },
  {
   "cell_type": "markdown",
   "id": "265a92c1-1b17-4bcb-bdb5-e770e5d30fbb",
   "metadata": {},
   "source": [
    "# Question 6\n",
    "Create two variables x and y and assign them the values 10 and 3.5 ,\n",
    "respectively. Print their values and types. Then, create a new variable\n",
    "sum_xy and store the sum of x and y . Print the result and its type."
   ]
  },
  {
   "cell_type": "code",
   "execution_count": 37,
   "id": "4ef7ffb3-3d05-4d0d-91bf-fc6b9402a94c",
   "metadata": {},
   "outputs": [
    {
     "name": "stdout",
     "output_type": "stream",
     "text": [
      "10 3.5\n",
      "<class 'int'> <class 'float'>\n",
      "13.5\n"
     ]
    },
    {
     "data": {
      "text/plain": [
       "float"
      ]
     },
     "execution_count": 37,
     "metadata": {},
     "output_type": "execute_result"
    }
   ],
   "source": [
    "x=10\n",
    "y=3.5\n",
    "\n",
    "print (x,y)\n",
    "print(type(x),type(y))\n",
    "\n",
    "#condition 2\n",
    "sum_xy=(x+y)\n",
    "print(sum_xy)\n",
    "type(sum_xy)"
   ]
  },
  {
   "cell_type": "markdown",
   "id": "c55a73d3-1e99-42f4-b056-038e6ad0a011",
   "metadata": {},
   "source": [
    "# Question 7\n",
    "Using the type() function, check and print the data type of the following:\n",
    "45.0\n",
    "\"hello\"\n",
    "None\n",
    "False"
   ]
  },
  {
   "cell_type": "code",
   "execution_count": 38,
   "id": "24e5fccd-1867-4f4e-bbe1-85326046c456",
   "metadata": {},
   "outputs": [
    {
     "name": "stdout",
     "output_type": "stream",
     "text": [
      "45.0\n",
      "<class 'float'>\n",
      "hello\n",
      "<class 'str'>\n",
      "None\n",
      "<class 'NoneType'>\n",
      "False\n",
      "<class 'bool'>\n"
     ]
    }
   ],
   "source": [
    "print(45.0)\n",
    "print(type(45.0))\n",
    "print(\"hello\")\n",
    "print(type(\"hello\"))\n",
    "print(None)\n",
    "print(type(None))\n",
    "print(False)\n",
    "print(type(False))"
   ]
  },
  {
   "cell_type": "markdown",
   "id": "9127aaaa-906d-4e49-a5d9-b8201fae5814",
   "metadata": {},
   "source": [
    "# Question 8\n",
    "Write a Python program to print three strings \"apple\" , \"banana\" , and \"cherry\"\n",
    "on the same line, separated by a space. Then modify the program to\n",
    "separate the strings using a comma , instead of a space.\n"
   ]
  },
  {
   "cell_type": "code",
   "execution_count": 9,
   "id": "1038aae7-ef04-482e-a250-fa50f77e84d7",
   "metadata": {},
   "outputs": [
    {
     "name": "stdout",
     "output_type": "stream",
     "text": [
      "Apple Banana Cherry\n",
      "Apple,Banana,Cherry\n"
     ]
    }
   ],
   "source": [
    "print(\"Apple\",\"Banana\",\"Cherry\")\n",
    "print(\"Apple\",\"Banana\",\"Cherry\",sep=\",\")"
   ]
  },
  {
   "cell_type": "markdown",
   "id": "b43fa5d4-db77-46ab-aedf-e12efa5b31ef",
   "metadata": {},
   "source": [
    "# Question 9\n",
    "Create a variable big_number and assign it a very large integer value (e.g.,\n",
    "987654321987654321 ). Print the value and its type. What do you notice about\n",
    "the size of the number?"
   ]
  },
  {
   "cell_type": "code",
   "execution_count": 42,
   "id": "00c38896-b8c0-4920-9ead-0572479a13b3",
   "metadata": {},
   "outputs": [
    {
     "name": "stdout",
     "output_type": "stream",
     "text": [
      "987654321987654321\n"
     ]
    },
    {
     "data": {
      "text/plain": [
       "int"
      ]
     },
     "execution_count": 42,
     "metadata": {},
     "output_type": "execute_result"
    }
   ],
   "source": [
    "big_number=987654321987654321\n",
    "print(big_number)\n",
    "type(big_number)"
   ]
  },
  {
   "cell_type": "markdown",
   "id": "829a27a6-c052-4659-998e-331326a5465c",
   "metadata": {},
   "source": [
    "# Question 10\n",
    "Write a Python program that prints the result of multiplying two floats (e.g.,\n",
    "2.5 and 3.7 ). Then check and print the data type of the result."
   ]
  },
  {
   "cell_type": "code",
   "execution_count": 43,
   "id": "0bcd7ba0-156d-4dd1-8b51-64b26d54a4a2",
   "metadata": {},
   "outputs": [
    {
     "name": "stdin",
     "output_type": "stream",
     "text": [
      " 2.3\n",
      " 3.2\n"
     ]
    },
    {
     "name": "stdout",
     "output_type": "stream",
     "text": [
      "7.359999999999999\n"
     ]
    },
    {
     "data": {
      "text/plain": [
       "float"
      ]
     },
     "execution_count": 43,
     "metadata": {},
     "output_type": "execute_result"
    }
   ],
   "source": [
    "x=float(input())\n",
    "y=float(input())\n",
    "\n",
    "print(x*y)\n",
    "type(x*y)"
   ]
  }
 ],
 "metadata": {
  "kernelspec": {
   "display_name": "Python 3 (ipykernel)",
   "language": "python",
   "name": "python3"
  },
  "language_info": {
   "codemirror_mode": {
    "name": "ipython",
    "version": 3
   },
   "file_extension": ".py",
   "mimetype": "text/x-python",
   "name": "python",
   "nbconvert_exporter": "python",
   "pygments_lexer": "ipython3",
   "version": "3.13.1"
  }
 },
 "nbformat": 4,
 "nbformat_minor": 5
}
